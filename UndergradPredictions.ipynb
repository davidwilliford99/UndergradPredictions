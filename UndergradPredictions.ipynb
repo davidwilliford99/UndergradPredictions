{
  "cells": [
    {
      "cell_type": "markdown",
      "metadata": {
        "id": "IgLZw68V9LO8"
      },
      "source": [
        "# This notebook shows the data analysis on the Kaggle dataset [\"Where it Pays to Attend College\"](https://www.kaggle.com/datasets/wsj/college-salaries)"
      ]
    },
    {
      "cell_type": "code",
      "execution_count": null,
      "metadata": {
        "colab": {
          "base_uri": "https://localhost:8080/"
        },
        "id": "KcQG_3Ho9LO9",
        "outputId": "46e55b5b-c303-4324-8791-cab0b2ed24b5"
      },
      "outputs": [
        {
          "output_type": "stream",
          "name": "stdout",
          "text": [
            "Requirement already satisfied: pandas in /usr/local/lib/python3.10/dist-packages (2.0.3)\n",
            "Requirement already satisfied: python-dateutil>=2.8.2 in /usr/local/lib/python3.10/dist-packages (from pandas) (2.8.2)\n",
            "Requirement already satisfied: pytz>=2020.1 in /usr/local/lib/python3.10/dist-packages (from pandas) (2023.4)\n",
            "Requirement already satisfied: tzdata>=2022.1 in /usr/local/lib/python3.10/dist-packages (from pandas) (2024.1)\n",
            "Requirement already satisfied: numpy>=1.21.0 in /usr/local/lib/python3.10/dist-packages (from pandas) (1.25.2)\n",
            "Requirement already satisfied: six>=1.5 in /usr/local/lib/python3.10/dist-packages (from python-dateutil>=2.8.2->pandas) (1.16.0)\n",
            "Requirement already satisfied: scikit-learn in /usr/local/lib/python3.10/dist-packages (1.2.2)\n",
            "Requirement already satisfied: numpy>=1.17.3 in /usr/local/lib/python3.10/dist-packages (from scikit-learn) (1.25.2)\n",
            "Requirement already satisfied: scipy>=1.3.2 in /usr/local/lib/python3.10/dist-packages (from scikit-learn) (1.11.4)\n",
            "Requirement already satisfied: joblib>=1.1.1 in /usr/local/lib/python3.10/dist-packages (from scikit-learn) (1.3.2)\n",
            "Requirement already satisfied: threadpoolctl>=2.0.0 in /usr/local/lib/python3.10/dist-packages (from scikit-learn) (3.4.0)\n",
            "Requirement already satisfied: matplotlib in /usr/local/lib/python3.10/dist-packages (3.7.1)\n",
            "Requirement already satisfied: contourpy>=1.0.1 in /usr/local/lib/python3.10/dist-packages (from matplotlib) (1.2.1)\n",
            "Requirement already satisfied: cycler>=0.10 in /usr/local/lib/python3.10/dist-packages (from matplotlib) (0.12.1)\n",
            "Requirement already satisfied: fonttools>=4.22.0 in /usr/local/lib/python3.10/dist-packages (from matplotlib) (4.50.0)\n",
            "Requirement already satisfied: kiwisolver>=1.0.1 in /usr/local/lib/python3.10/dist-packages (from matplotlib) (1.4.5)\n",
            "Requirement already satisfied: numpy>=1.20 in /usr/local/lib/python3.10/dist-packages (from matplotlib) (1.25.2)\n",
            "Requirement already satisfied: packaging>=20.0 in /usr/local/lib/python3.10/dist-packages (from matplotlib) (24.0)\n",
            "Requirement already satisfied: pillow>=6.2.0 in /usr/local/lib/python3.10/dist-packages (from matplotlib) (9.4.0)\n",
            "Requirement already satisfied: pyparsing>=2.3.1 in /usr/local/lib/python3.10/dist-packages (from matplotlib) (3.1.2)\n",
            "Requirement already satisfied: python-dateutil>=2.7 in /usr/local/lib/python3.10/dist-packages (from matplotlib) (2.8.2)\n",
            "Requirement already satisfied: six>=1.5 in /usr/local/lib/python3.10/dist-packages (from python-dateutil>=2.7->matplotlib) (1.16.0)\n",
            "Requirement already satisfied: pyspark in /usr/local/lib/python3.10/dist-packages (3.5.1)\n",
            "Requirement already satisfied: py4j==0.10.9.7 in /usr/local/lib/python3.10/dist-packages (from pyspark) (0.10.9.7)\n"
          ]
        }
      ],
      "source": [
        "# Install all dependencies\n",
        "!pip install pandas\n",
        "!pip install scikit-learn\n",
        "!pip install matplotlib\n",
        "!pip install pyspark"
      ]
    },
    {
      "cell_type": "code",
      "execution_count": null,
      "metadata": {
        "id": "HN8w2AsT9LO9"
      },
      "outputs": [],
      "source": [
        "# Initialize Spark\n",
        "import pandas as pd\n",
        "from pyspark import SparkContext\n",
        "from pyspark.sql import SparkSession\n",
        "import os\n",
        "import sys\n",
        "\n",
        "os.environ['PYSPARK_PYTHON'] = sys.executable\n",
        "os.environ['PYSPARK_DRIVER_PYTHON'] = sys.executable"
      ]
    },
    {
      "cell_type": "markdown",
      "source": [
        "Create Spark session"
      ],
      "metadata": {
        "id": "gHVN_6KsASdf"
      }
    },
    {
      "cell_type": "code",
      "execution_count": null,
      "metadata": {
        "id": "Epc5-vlK9LO9"
      },
      "outputs": [],
      "source": [
        "# Creating a spark context class\n",
        "sc = SparkContext()\n",
        "\n",
        "# Creating a spark session\n",
        "spark = SparkSession \\\n",
        "    .builder \\\n",
        "    .appName(\"Python Spark DataFrames\") \\\n",
        "    .config(\"spark.some.config.option\", \"some-value\") \\\n",
        "    .getOrCreate()"
      ]
    },
    {
      "cell_type": "markdown",
      "source": [
        "Locate datasets"
      ],
      "metadata": {
        "id": "bdQpjVeNAOc-"
      }
    },
    {
      "cell_type": "code",
      "execution_count": null,
      "metadata": {
        "id": "u0Pz1H349LO9"
      },
      "outputs": [],
      "source": [
        "degrees_that_pay_back_df = spark.read.csv('data/degrees-that-pay-back.csv', header=True, inferSchema=True)\n",
        "salaries_by_college_type_df = spark.read.csv('data/salaries-by-college-type.csv', header=True, inferSchema=True)\n",
        "salaries_by_region_df = spark.read.csv('data/salaries-by-region.csv', header=True, inferSchema=True)"
      ]
    },
    {
      "cell_type": "markdown",
      "source": [
        "Preprocess Data"
      ],
      "metadata": {
        "id": "-3tnYuYRAL5l"
      }
    },
    {
      "cell_type": "code",
      "execution_count": null,
      "metadata": {
        "id": "AOisIqY69LO9"
      },
      "outputs": [],
      "source": [
        "from pyspark.sql.functions import regexp_replace\n",
        "from pyspark.ml.feature import OneHotEncoder, StringIndexer, VectorAssembler\n",
        "from pyspark.ml import Pipeline\n",
        "\n",
        "# Replace '$' and ',' in salary columns and convert to float\n",
        "for column in ['Starting Median Salary', 'Mid-Career Median Salary']:\n",
        "    salaries_by_college_type_df = salaries_by_college_type_df.withColumn(column, regexp_replace(column, '[$,]', '').cast('float'))\n",
        "\n",
        "# Indexing 'School Type' column (necessary for OneHotEncoder in Spark)\n",
        "school_type_indexer = StringIndexer(inputCol='School Type', outputCol='School Type Index')\n",
        "\n",
        "# One-hot encoding 'School Type' column\n",
        "encoder = OneHotEncoder(inputCols=['School Type Index'], outputCols=['School Type Vec'])\n",
        "\n",
        "# Assembling encoded features into a vector (required by Spark MLlib models)\n",
        "assembler = VectorAssembler(inputCols=['School Type Vec'], outputCol='features')\n",
        "\n",
        "# Pipeline for transformations\n",
        "pipeline = Pipeline(stages=[school_type_indexer, encoder, assembler])\n",
        "\n",
        "# Fit and transform the data\n",
        "processed_data = pipeline.fit(salaries_by_college_type_df).transform(salaries_by_college_type_df)\n",
        "\n",
        "# Selecting the features vector and target columns\n",
        "final_data = processed_data.select('features', 'Starting Median Salary', 'Mid-Career Median Salary')\n"
      ]
    },
    {
      "cell_type": "markdown",
      "source": [
        "Split data into training and test sets"
      ],
      "metadata": {
        "id": "EAt4z707_0_f"
      }
    },
    {
      "cell_type": "code",
      "execution_count": null,
      "metadata": {
        "id": "N0YibUlt9LO-"
      },
      "outputs": [],
      "source": [
        "# making test and training data\n",
        "train_data, test_data = final_data.randomSplit([0.8, 0.2], seed=42)"
      ]
    },
    {
      "cell_type": "markdown",
      "source": [
        "Train Linear Regression Model"
      ],
      "metadata": {
        "id": "VWc0QbVs_w6c"
      }
    },
    {
      "cell_type": "code",
      "source": [
        "from pyspark.ml.regression import LinearRegression\n",
        "\n",
        "# Initialize the linear regression model\n",
        "linear_model = LinearRegression(featuresCol='features', labelCol='Starting Median Salary')\n",
        "\n",
        "# Train the model with the training data\n",
        "linear_model = linear_model.fit(train_data)\n",
        "\n",
        "# Predict on the test data\n",
        "predictions = linear_model.transform(test_data)"
      ],
      "metadata": {
        "id": "WXgdqksS_bPf"
      },
      "execution_count": null,
      "outputs": []
    },
    {
      "cell_type": "markdown",
      "source": [
        "Evaluate Model"
      ],
      "metadata": {
        "id": "HQ_5pgyD_tAP"
      }
    },
    {
      "cell_type": "code",
      "source": [
        "from pyspark.ml.evaluation import RegressionEvaluator\n",
        "\n",
        "# Initialize the evaluator\n",
        "evaluator = RegressionEvaluator(labelCol='Starting Median Salary', predictionCol='prediction', metricName='rmse')\n",
        "\n",
        "# Calculate RMSE\n",
        "rmse = evaluator.evaluate(predictions)\n",
        "\n",
        "# Print the RMSE\n",
        "print(f\"Root Mean Squared Error (RMSE): {rmse}\")"
      ],
      "metadata": {
        "colab": {
          "base_uri": "https://localhost:8080/"
        },
        "id": "oTZ4Cj48_mfx",
        "outputId": "4309208e-d29f-4691-c3bf-104fb97153b0"
      },
      "execution_count": null,
      "outputs": [
        {
          "output_type": "stream",
          "name": "stdout",
          "text": [
            "Root Mean Squared Error (RMSE): 5378.584450673772\n"
          ]
        }
      ]
    },
    {
      "cell_type": "markdown",
      "source": [
        "Predicting Future Salaries by School Type"
      ],
      "metadata": {
        "id": "feeZFTMuA3X1"
      }
    },
    {
      "cell_type": "code",
      "source": [
        "# Example new data\n",
        "new_data = spark.createDataFrame([\n",
        "    ('MIT', 'Engineering', 'Northeast', 'Computer Science'),\n",
        "    ('Harvard', 'Ivy League', 'Northeast', 'English')\n",
        "], ['School Name', 'School Type', 'Region', 'Undergraduate Major'])\n",
        "\n",
        "# Apply the same transformations as the training data\n",
        "new_data_transformed = pipeline.fit(salaries_by_college_type_df).transform(new_data)\n",
        "\n",
        "# Predict salaries\n",
        "predictions = linear_model.transform(new_data_transformed)\n",
        "\n",
        "# Show predictions\n",
        "predictions.show()"
      ],
      "metadata": {
        "colab": {
          "base_uri": "https://localhost:8080/"
        },
        "id": "FvDiY9jZBHGL",
        "outputId": "2ea605ee-48f1-4264-9cd3-3446f5714d7f"
      },
      "execution_count": null,
      "outputs": [
        {
          "output_type": "stream",
          "name": "stdout",
          "text": [
            "+-----------+-----------+---------+-------------------+-----------------+---------------+-------------+------------------+\n",
            "|School Name|School Type|   Region|Undergraduate Major|School Type Index|School Type Vec|     features|        prediction|\n",
            "+-----------+-----------+---------+-------------------+-----------------+---------------+-------------+------------------+\n",
            "|        MIT|Engineering|Northeast|   Computer Science|              3.0|  (4,[3],[1.0])|(4,[3],[1.0])|56992.307692307695|\n",
            "|    Harvard| Ivy League|Northeast|            English|              4.0|      (4,[],[])|    (4,[],[])| 60216.66666666691|\n",
            "+-----------+-----------+---------+-------------------+-----------------+---------------+-------------+------------------+\n",
            "\n"
          ]
        }
      ]
    }
  ],
  "metadata": {
    "kernelspec": {
      "display_name": "Python 3 (ipykernel)",
      "language": "python",
      "name": "python3"
    },
    "language_info": {
      "codemirror_mode": {
        "name": "ipython",
        "version": 3
      },
      "file_extension": ".py",
      "mimetype": "text/x-python",
      "name": "python",
      "nbconvert_exporter": "python",
      "pygments_lexer": "ipython3",
      "version": "3.9.12"
    },
    "colab": {
      "provenance": []
    }
  },
  "nbformat": 4,
  "nbformat_minor": 0
}