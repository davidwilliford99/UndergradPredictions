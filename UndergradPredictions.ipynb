{
 "cells": [
  {
   "cell_type": "markdown",
   "metadata": {},
   "source": [
    "# This notebook shows the data analysis on the Kaggle dataset [\"Where it Pays to Attend College\"](https://www.kaggle.com/datasets/wsj/college-salaries)"
   ]
  }
 ],
 "metadata": {
  "language_info": {
   "name": "python"
  }
 },
 "nbformat": 4,
 "nbformat_minor": 2
}
